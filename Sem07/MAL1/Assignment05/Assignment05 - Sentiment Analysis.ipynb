{
 "cells": [
  {
   "cell_type": "markdown",
   "id": "5bc9be56",
   "metadata": {},
   "source": [
    "## Sentiment Analysis"
   ]
  },
  {
   "cell_type": "markdown",
   "id": "818b3b52",
   "metadata": {},
   "source": [
    "In this exercise we use the IMDb-dataset, which we will use to perform a sentiment analysis. The code below assumes that the data is placed in the same folder as this notebook. We see that the reviews are loaded as a pandas dataframe, and print the beginning of the first few reviews."
   ]
  },
  {
   "cell_type": "code",
   "execution_count": 2,
   "outputs": [],
   "source": [
    "from sklearn.model_selection import train_test_split\n",
    "from sklearn.feature_extraction.text import CountVectorizer\n",
    "import numpy as np\n",
    "import pandas as pd\n",
    "from sklearn.metrics import classification_report, confusion_matrix\n",
    "\n",
    "from keras.src import Sequential\n",
    "from keras.src.layers import Dense, Dropout\n"
   ],
   "metadata": {
    "collapsed": false,
    "ExecuteTime": {
     "end_time": "2023-11-15T14:24:51.251878Z",
     "start_time": "2023-11-15T14:24:51.233109Z"
    }
   },
   "id": "c80f19795eca325e"
  },
  {
   "cell_type": "code",
   "execution_count": 3,
   "id": "67da3bc0",
   "metadata": {
    "ExecuteTime": {
     "end_time": "2023-11-15T14:24:51.536027Z",
     "start_time": "2023-11-15T14:24:51.238090Z"
    }
   },
   "outputs": [
    {
     "name": "stdout",
     "output_type": "stream",
     "text": [
      "<class 'pandas.core.frame.DataFrame'>\n",
      "                                                       0\n",
      "0      bromwell high is a cartoon comedy . it ran at ...\n",
      "1      story of a man who has unnatural feelings for ...\n",
      "2      homelessness  or houselessness as george carli...\n",
      "3      airport    starts as a brand new luxury    pla...\n",
      "4      brilliant over  acting by lesley ann warren . ...\n",
      "...                                                  ...\n",
      "24995  i saw  descent  last night at the stockholm fi...\n",
      "24996  a christmas together actually came before my t...\n",
      "24997  some films that you pick up for a pound turn o...\n",
      "24998  working  class romantic drama from director ma...\n",
      "24999  this is one of the dumbest films  i  ve ever s...\n",
      "\n",
      "[25000 rows x 1 columns]\n"
     ]
    }
   ],
   "source": [
    "reviews = pd.read_csv('reviews.txt', header=None)\n",
    "labels = pd.read_csv('labels.txt', header=None)\n",
    "Y = (labels=='positive').astype(np.int_)\n",
    "\n",
    "print(type(reviews))\n",
    "print(reviews)"
   ]
  },
  {
   "cell_type": "markdown",
   "id": "4982b946",
   "metadata": {},
   "source": [
    "**(a)** Split the reviews and labels in test, train and validation sets. The train and validation sets will be used to train your model and tune hyperparameters, the test set will be saved for testing. Use the `CountVectorizer` from `sklearn.feature_extraction.text` to create a Bag-of-Words representation of the reviews. Only use the 10,000 most frequent words (use the `max_features`-parameter of `CountVectorizer`)."
   ]
  },
  {
   "cell_type": "code",
   "execution_count": 4,
   "outputs": [],
   "source": [
    "reviews_train, reviews_test, Y_train, Y_test = train_test_split(\n",
    "    reviews[0],\n",
    "    Y[0],\n",
    "    test_size=0.2,\n",
    "    random_state=42\n",
    ")\n",
    "\n",
    "reviews_train, reviews_val, Y_train, Y_val = train_test_split(\n",
    "    reviews_train,\n",
    "    Y_train,\n",
    "    test_size=0.25,\n",
    "    random_state=42\n",
    ")\n",
    "\n",
    "vectorizer = CountVectorizer(max_features=10000)\n",
    "\n",
    "X_train = vectorizer.fit_transform(reviews_train)\n",
    "\n",
    "X_val = vectorizer.transform(reviews_val)\n",
    "X_test = vectorizer.transform(reviews_test)"
   ],
   "metadata": {
    "collapsed": false,
    "ExecuteTime": {
     "end_time": "2023-11-15T14:24:53.864619Z",
     "start_time": "2023-11-15T14:24:51.535227Z"
    }
   },
   "id": "d513ad9c9fa20b48"
  },
  {
   "cell_type": "markdown",
   "id": "ebf07ee9",
   "metadata": {},
   "source": [
    "**(b)** Explore the representation of the reviews. How is a single word represented? How about a whole review?"
   ]
  },
  {
   "cell_type": "code",
   "execution_count": 5,
   "outputs": [
    {
     "name": "stdout",
     "output_type": "stream",
     "text": [
      "*********************** First 100 features ***********************\n",
      "['abandon' 'abandoned' 'abby' 'abc' 'abducted' 'abilities' 'ability'\n",
      " 'able' 'aboard' 'abominable' 'abomination' 'abortion' 'abound' 'about'\n",
      " 'above' 'abraham' 'abrupt' 'abruptly' 'absence' 'absent' 'absolute'\n",
      " 'absolutely' 'absorbed' 'absorbing' 'abstract' 'absurd' 'absurdity' 'abu'\n",
      " 'abundance' 'abuse' 'abused' 'abusive' 'abysmal' 'academic' 'academy'\n",
      " 'accent' 'accents' 'accept' 'acceptable' 'acceptance' 'accepted'\n",
      " 'accepting' 'accepts' 'access' 'accessible' 'accident' 'accidental'\n",
      " 'accidentally' 'acclaim' 'acclaimed' 'accompanied' 'accompanying'\n",
      " 'accomplish' 'accomplished' 'accomplishment' 'according' 'account'\n",
      " 'accounts' 'accuracy' 'accurate' 'accurately' 'accusations' 'accused'\n",
      " 'ace' 'achieve' 'achieved' 'achievement' 'achievements' 'achieves' 'acid'\n",
      " 'acknowledge' 'acknowledged' 'acquire' 'acquired' 'across' 'act' 'acted'\n",
      " 'acting' 'action' 'actions' 'active' 'activities' 'activity' 'actor'\n",
      " 'actors' 'actress' 'actresses' 'acts' 'actual' 'actuality' 'actually'\n",
      " 'ad' 'ada' 'adam' 'adams' 'adapt' 'adaptation' 'adaptations' 'adapted'\n",
      " 'adapting']\n",
      "*********************** First Review ***********************\n",
      "  birth of the beatles   for being a us television movie  released in the fall of     has actually been  so far the best movie which tells the tale of the the four lads from liverpool that revolutionized the music industry and the world . as told by the point of view of former beatle pete best . the performance from the entire cast is excellent but  most especially the performance by stephen mackenna as john lennon and rod culbertson as paul mccartney . the film was produced by a legend of the rock and roll era  mr dick clark . who a year earlier in     had produced another tv movie  that has stood the test of time starring  kurt rusell  in the lead role about another musical legend  elvis  . that movie was directed by an unknown director named  john carpenter  who went on to direct other successful movies such as  halloween    escape from new york   and  the thing  . the same can be said for the director of the  birth of the beatles   mr richard marquand . he went on to direct other theatrical blockbusters such as  star wars return of the jedi    eye of the needle   and  jagged edge  among many . the only other film that tells the story of the fab four that i know of  is back beat which had a theatrical release in     . however  the critics did not care for it  nor did the public  for it did not have a long life span in the theater . birth of the beatles is very charming and simplistic film that gives you the essence of the beginning of the legend and the struggles  hardships they went thru and ends at there pinnacle of success when they arrive in nyc and appear in the ed sullivan show in     . i highly recommend this film .  \n",
      "*********************** Indexes ***********************\n",
      "The word 'birth' appears 3 times in the first review.\n",
      "The word 'of' appears 17 times in the first review.\n",
      "The word 'the' appears 35 times in the first review.\n",
      "The word 'beatles' appears 3 times in the first review.\n",
      "The word 'for' appears 4 times in the first review.\n",
      "The word 'being' appears 1 times in the first review.\n",
      "The word 'us' appears 1 times in the first review.\n",
      "The word 'television' appears 1 times in the first review.\n",
      "The word 'movie' appears 4 times in the first review.\n",
      "The word 'released' appears 1 times in the first review.\n",
      "The word 'in' appears 8 times in the first review.\n",
      "The word 'fall' appears 1 times in the first review.\n",
      "The word 'has' appears 2 times in the first review.\n",
      "The word 'actually' appears 1 times in the first review.\n",
      "The word 'been' appears 1 times in the first review.\n",
      "The word 'so' appears 1 times in the first review.\n",
      "The word 'far' appears 1 times in the first review.\n",
      "The word 'best' appears 2 times in the first review.\n",
      "The word 'which' appears 2 times in the first review.\n",
      "The word 'tells' appears 2 times in the first review.\n",
      "The word 'tale' appears 1 times in the first review.\n",
      "The word 'four' appears 2 times in the first review.\n",
      "The word 'from' appears 3 times in the first review.\n",
      "The word 'that' appears 6 times in the first review.\n",
      "The word 'music' appears 1 times in the first review.\n",
      "The word 'industry' appears 1 times in the first review.\n",
      "The word 'and' appears 9 times in the first review.\n",
      "The word 'world' appears 1 times in the first review.\n",
      "The word 'as' appears 5 times in the first review.\n",
      "The word 'told' appears 1 times in the first review.\n",
      "The word 'by' appears 4 times in the first review.\n",
      "The word 'point' appears 1 times in the first review.\n",
      "The word 'view' appears 1 times in the first review.\n",
      "The word 'former' appears 1 times in the first review.\n",
      "The word 'pete' appears 1 times in the first review.\n",
      "The word 'performance' appears 2 times in the first review.\n",
      "The word 'entire' appears 1 times in the first review.\n",
      "The word 'cast' appears 1 times in the first review.\n",
      "The word 'is' appears 3 times in the first review.\n",
      "The word 'excellent' appears 1 times in the first review.\n",
      "The word 'but' appears 1 times in the first review.\n",
      "The word 'most' appears 1 times in the first review.\n",
      "The word 'especially' appears 1 times in the first review.\n",
      "The word 'stephen' appears 1 times in the first review.\n",
      "The word 'john' appears 2 times in the first review.\n",
      "The word 'lennon' appears 1 times in the first review.\n",
      "The word 'rod' appears 1 times in the first review.\n",
      "The word 'paul' appears 1 times in the first review.\n",
      "The word 'film' appears 4 times in the first review.\n",
      "The word 'was' appears 2 times in the first review.\n",
      "The word 'produced' appears 2 times in the first review.\n",
      "The word 'legend' appears 3 times in the first review.\n",
      "The word 'rock' appears 1 times in the first review.\n",
      "The word 'roll' appears 1 times in the first review.\n",
      "The word 'era' appears 1 times in the first review.\n",
      "The word 'mr' appears 2 times in the first review.\n",
      "The word 'dick' appears 1 times in the first review.\n",
      "The word 'clark' appears 1 times in the first review.\n",
      "The word 'who' appears 2 times in the first review.\n",
      "The word 'year' appears 1 times in the first review.\n",
      "The word 'earlier' appears 1 times in the first review.\n",
      "The word 'had' appears 2 times in the first review.\n",
      "The word 'another' appears 2 times in the first review.\n",
      "The word 'tv' appears 1 times in the first review.\n",
      "The word 'stood' appears 1 times in the first review.\n",
      "The word 'test' appears 1 times in the first review.\n",
      "The word 'time' appears 1 times in the first review.\n",
      "The word 'starring' appears 1 times in the first review.\n",
      "The word 'kurt' appears 1 times in the first review.\n",
      "The word 'lead' appears 1 times in the first review.\n",
      "The word 'role' appears 1 times in the first review.\n",
      "The word 'about' appears 1 times in the first review.\n",
      "The word 'musical' appears 1 times in the first review.\n",
      "The word 'elvis' appears 1 times in the first review.\n",
      "The word 'directed' appears 1 times in the first review.\n",
      "The word 'an' appears 1 times in the first review.\n",
      "The word 'unknown' appears 1 times in the first review.\n",
      "The word 'director' appears 2 times in the first review.\n",
      "The word 'named' appears 1 times in the first review.\n",
      "The word 'carpenter' appears 1 times in the first review.\n",
      "The word 'went' appears 3 times in the first review.\n",
      "The word 'on' appears 2 times in the first review.\n",
      "The word 'to' appears 2 times in the first review.\n",
      "The word 'direct' appears 2 times in the first review.\n",
      "The word 'other' appears 3 times in the first review.\n",
      "The word 'successful' appears 1 times in the first review.\n",
      "The word 'movies' appears 1 times in the first review.\n",
      "The word 'such' appears 2 times in the first review.\n",
      "The word 'halloween' appears 1 times in the first review.\n",
      "The word 'escape' appears 1 times in the first review.\n",
      "The word 'new' appears 1 times in the first review.\n",
      "The word 'york' appears 1 times in the first review.\n",
      "The word 'thing' appears 1 times in the first review.\n",
      "The word 'same' appears 1 times in the first review.\n",
      "The word 'can' appears 1 times in the first review.\n",
      "The word 'be' appears 1 times in the first review.\n",
      "The word 'said' appears 1 times in the first review.\n",
      "The word 'richard' appears 1 times in the first review.\n",
      "The word 'he' appears 1 times in the first review.\n",
      "The word 'theatrical' appears 2 times in the first review.\n",
      "The word 'blockbusters' appears 1 times in the first review.\n",
      "The word 'star' appears 1 times in the first review.\n",
      "The word 'wars' appears 1 times in the first review.\n",
      "The word 'return' appears 1 times in the first review.\n",
      "The word 'jedi' appears 1 times in the first review.\n",
      "The word 'eye' appears 1 times in the first review.\n",
      "The word 'needle' appears 1 times in the first review.\n",
      "The word 'edge' appears 1 times in the first review.\n",
      "The word 'among' appears 1 times in the first review.\n",
      "The word 'many' appears 1 times in the first review.\n",
      "The word 'only' appears 1 times in the first review.\n",
      "The word 'story' appears 1 times in the first review.\n",
      "The word 'know' appears 1 times in the first review.\n",
      "The word 'back' appears 1 times in the first review.\n",
      "The word 'beat' appears 1 times in the first review.\n",
      "The word 'release' appears 1 times in the first review.\n",
      "The word 'however' appears 1 times in the first review.\n",
      "The word 'critics' appears 1 times in the first review.\n",
      "The word 'did' appears 3 times in the first review.\n",
      "The word 'not' appears 2 times in the first review.\n",
      "The word 'care' appears 1 times in the first review.\n",
      "The word 'it' appears 2 times in the first review.\n",
      "The word 'nor' appears 1 times in the first review.\n",
      "The word 'public' appears 1 times in the first review.\n",
      "The word 'have' appears 1 times in the first review.\n",
      "The word 'long' appears 1 times in the first review.\n",
      "The word 'life' appears 1 times in the first review.\n",
      "The word 'span' appears 1 times in the first review.\n",
      "The word 'theater' appears 1 times in the first review.\n",
      "The word 'very' appears 1 times in the first review.\n",
      "The word 'charming' appears 1 times in the first review.\n",
      "The word 'simplistic' appears 1 times in the first review.\n",
      "The word 'gives' appears 1 times in the first review.\n",
      "The word 'you' appears 1 times in the first review.\n",
      "The word 'essence' appears 1 times in the first review.\n",
      "The word 'beginning' appears 1 times in the first review.\n",
      "The word 'struggles' appears 1 times in the first review.\n",
      "The word 'hardships' appears 1 times in the first review.\n",
      "The word 'they' appears 2 times in the first review.\n",
      "The word 'thru' appears 1 times in the first review.\n",
      "The word 'ends' appears 1 times in the first review.\n",
      "The word 'at' appears 1 times in the first review.\n",
      "The word 'there' appears 1 times in the first review.\n",
      "The word 'success' appears 1 times in the first review.\n",
      "The word 'when' appears 1 times in the first review.\n",
      "The word 'arrive' appears 1 times in the first review.\n",
      "The word 'nyc' appears 1 times in the first review.\n",
      "The word 'appear' appears 1 times in the first review.\n",
      "The word 'ed' appears 1 times in the first review.\n",
      "The word 'sullivan' appears 1 times in the first review.\n",
      "The word 'show' appears 1 times in the first review.\n",
      "The word 'highly' appears 1 times in the first review.\n",
      "The word 'recommend' appears 1 times in the first review.\n",
      "The word 'this' appears 1 times in the first review.\n",
      "*********************** Representation of first review 100 features ***********************\n",
      "  (0, 884)\t3\n",
      "  (0, 6174)\t17\n",
      "  (0, 8958)\t35\n",
      "  (0, 751)\t3\n",
      "  (0, 3518)\t4\n",
      "  (0, 794)\t1\n",
      "  (0, 9455)\t1\n",
      "  (0, 8900)\t1\n",
      "  (0, 5859)\t4\n",
      "  (0, 7277)\t1\n",
      "  (0, 4483)\t8\n",
      "  (0, 3246)\t1\n",
      "  (0, 4085)\t2\n",
      "  (0, 90)\t1\n",
      "  (0, 770)\t1\n",
      "  (0, 8249)\t1\n",
      "  (0, 3268)\t1\n",
      "  (0, 838)\t2\n",
      "  (0, 9775)\t2\n",
      "  (0, 8904)\t2\n",
      "  (0, 8829)\t1\n",
      "  (0, 3562)\t2\n",
      "  (0, 3619)\t3\n",
      "  (0, 8956)\t6\n",
      "  (0, 5896)\t1\n",
      "  :\t:\n",
      "  (0, 9531)\t1\n",
      "  (0, 1452)\t1\n",
      "  (0, 8109)\t1\n",
      "  (0, 3792)\t1\n",
      "  (0, 9970)\t1\n",
      "  (0, 3040)\t1\n",
      "  (0, 782)\t1\n",
      "  (0, 8602)\t1\n",
      "  (0, 4063)\t1\n",
      "  (0, 8985)\t2\n",
      "  (0, 9039)\t1\n",
      "  (0, 2944)\t1\n",
      "  (0, 540)\t1\n",
      "  (0, 8979)\t1\n",
      "  (0, 8666)\t1\n",
      "  (0, 9769)\t1\n",
      "  (0, 470)\t1\n",
      "  (0, 6136)\t1\n",
      "  (0, 408)\t1\n",
      "  (0, 2818)\t1\n",
      "  (0, 8697)\t1\n",
      "  (0, 8048)\t1\n",
      "  (0, 4202)\t1\n",
      "  (0, 7196)\t1\n",
      "  (0, 9000)\t1\n",
      "*********************** Indices of words in first review ***********************\n",
      "[ 884 6174 8958  751 3518  794 9455 8900 5859 7277 4483 3246 4085   90\n",
      "  770 8249 3268  838 9775 8904 8829 3562 3619 8956 5896 4538  322 9897\n",
      "  492 9098 1206 6681 9553 3543 6543 6513 2996 1344 4721 3100 1193 5831\n",
      " 3037 8502 4827 5144 7544 6459 3381 9682 6881 5131 7539 7554 3020 5864\n",
      " 2468 1587 9785 9955 2788 3998  364 9291 8542 8942 9064 8460 5010 5105\n",
      " 7552   13 5897 2893 2509  317 9403 2514 5930 1317 9749 6214 9086 2508\n",
      " 6280 8667 5860 8669 4014 3031 6017 9969 8990 7675 1249  740 7657 7469\n",
      " 4111 8963  934 8451 9681 7426 4787 3208 5982 2822  305 5465 6220 8553\n",
      " 4989  646  748 7276 4334 2093 2472 6091 1293 4734 6075 6978 4098 5294\n",
      " 5186 8331 8959 9531 1452 8109 3792 9970 3040  782 8602 4063 8985 9039\n",
      " 2944  540 8979 8666 9769  470 6136  408 2818 8697 8048 4202 7196 9000]\n"
     ]
    }
   ],
   "source": [
    "print(\"*********************** First 100 features ***********************\")\n",
    "print(vectorizer.get_feature_names_out()[:100])\n",
    "\n",
    "print(\"*********************** First Review ***********************\")\n",
    "\n",
    "feature_names = vectorizer.get_feature_names_out()\n",
    "first_review = reviews_train.iloc[0]\n",
    "print(first_review)\n",
    "\n",
    "print(\"*********************** Indexes ***********************\")\n",
    "first_review_vector = X_train[0]\n",
    "\n",
    "for idx in first_review_vector.indices:\n",
    "    feature_name = feature_names[idx]\n",
    "    count = first_review_vector[0, idx]\n",
    "    print(f\"The word '{feature_name}' appears {count} times in the first review.\")\n",
    "\n",
    "print(\"*********************** Representation of first review 100 features ***********************\")\n",
    "print(first_review_vector)\n",
    "\n",
    "print(\"*********************** Indices of words in first review ***********************\")\n",
    "print(first_review_vector.indices)\n",
    "\n"
   ],
   "metadata": {
    "collapsed": false,
    "ExecuteTime": {
     "end_time": "2023-11-15T14:24:53.874031Z",
     "start_time": "2023-11-15T14:24:53.850538Z"
    }
   },
   "id": "44f6c43e48639929"
  },
  {
   "cell_type": "markdown",
   "id": "c2638fce",
   "metadata": {},
   "source": [
    "**(c)** Train a neural network with a single hidden layer on the dataset, tuning the relevant hyperparameters to optimize accuracy. "
   ]
  },
  {
   "cell_type": "code",
   "execution_count": 6,
   "outputs": [
    {
     "name": "stdout",
     "output_type": "stream",
     "text": [
      "Epoch 1/10\n",
      "1500/1500 [==============================] - 4s 3ms/step - loss: 0.3784 - accuracy: 0.8383 - val_loss: 0.2940 - val_accuracy: 0.8806\n",
      "Epoch 2/10\n",
      "1500/1500 [==============================] - 4s 2ms/step - loss: 0.2153 - accuracy: 0.9171 - val_loss: 0.2882 - val_accuracy: 0.8876\n",
      "Epoch 3/10\n",
      "1500/1500 [==============================] - 4s 3ms/step - loss: 0.1415 - accuracy: 0.9487 - val_loss: 0.3313 - val_accuracy: 0.8828\n",
      "Epoch 4/10\n",
      "1500/1500 [==============================] - 4s 2ms/step - loss: 0.0996 - accuracy: 0.9633 - val_loss: 0.3688 - val_accuracy: 0.8756\n",
      "Epoch 5/10\n",
      "1500/1500 [==============================] - 4s 3ms/step - loss: 0.0678 - accuracy: 0.9770 - val_loss: 0.3684 - val_accuracy: 0.8870\n",
      "Epoch 6/10\n",
      "1500/1500 [==============================] - 4s 3ms/step - loss: 0.0478 - accuracy: 0.9845 - val_loss: 0.4882 - val_accuracy: 0.8836\n",
      "Epoch 7/10\n",
      "1500/1500 [==============================] - 4s 3ms/step - loss: 0.0361 - accuracy: 0.9891 - val_loss: 0.4744 - val_accuracy: 0.8878\n",
      "Epoch 8/10\n",
      "1500/1500 [==============================] - 4s 3ms/step - loss: 0.0308 - accuracy: 0.9890 - val_loss: 0.5126 - val_accuracy: 0.8796\n",
      "Epoch 9/10\n",
      "1500/1500 [==============================] - 4s 2ms/step - loss: 0.0242 - accuracy: 0.9913 - val_loss: 0.5471 - val_accuracy: 0.8856\n",
      "Epoch 10/10\n",
      "1500/1500 [==============================] - 3s 2ms/step - loss: 0.0288 - accuracy: 0.9909 - val_loss: 0.5954 - val_accuracy: 0.8856\n",
      "Test Accuracy: 0.8766\n"
     ]
    }
   ],
   "source": [
    "X_train_dense = X_train.toarray()\n",
    "X_val_dense = X_val.toarray()\n",
    "X_test_dense = X_test.toarray()\n",
    "\n",
    "input_dim = X_train_dense.shape[1]\n",
    "model = Sequential()\n",
    "model.add(Dense(128, input_dim=input_dim, activation='relu'))\n",
    "model.add(Dropout(0.5))\n",
    "model.add(Dense(1, activation='sigmoid'))\n",
    "\n",
    "model.compile(loss='binary_crossentropy',\n",
    "              optimizer='adam',\n",
    "              metrics=['accuracy'])\n",
    "\n",
    "history = model.fit(X_train_dense, Y_train,\n",
    "                    epochs=10,\n",
    "                    verbose=True,\n",
    "                    validation_data=(X_val_dense, Y_val),\n",
    "                    batch_size=10)\n",
    "\n",
    "loss, accuracy = model.evaluate(X_test_dense, Y_test, verbose=False)\n",
    "print(f\"Test Accuracy: {accuracy:.4f}\")"
   ],
   "metadata": {
    "collapsed": false,
    "ExecuteTime": {
     "end_time": "2023-11-15T14:25:33.852990Z",
     "start_time": "2023-11-15T14:24:53.865138Z"
    }
   },
   "id": "386422bc4b4b8156"
  },
  {
   "cell_type": "markdown",
   "id": "1fd327a6",
   "metadata": {},
   "source": [
    "**(d)** Test your sentiment-classifier on the test set."
   ]
  },
  {
   "cell_type": "code",
   "execution_count": 7,
   "id": "a1ef2970",
   "metadata": {
    "ExecuteTime": {
     "end_time": "2023-11-15T14:25:34.469205Z",
     "start_time": "2023-11-15T14:25:33.842473Z"
    }
   },
   "outputs": [
    {
     "name": "stdout",
     "output_type": "stream",
     "text": [
      "157/157 [==============================] - 0s 1ms/step - loss: 0.6904 - accuracy: 0.8766\n",
      "Test Loss: 0.6904\n",
      "Test Accuracy: 0.8766\n",
      "157/157 [==============================] - 0s 1ms/step\n",
      "              precision    recall  f1-score   support\n",
      "\n",
      "    Negative       0.90      0.84      0.87      2492\n",
      "    Positive       0.85      0.91      0.88      2508\n",
      "\n",
      "    accuracy                           0.88      5000\n",
      "   macro avg       0.88      0.88      0.88      5000\n",
      "weighted avg       0.88      0.88      0.88      5000\n",
      "\n",
      "[[2099  393]\n",
      " [ 224 2284]]\n"
     ]
    }
   ],
   "source": [
    "loss, accuracy = model.evaluate(X_test_dense, Y_test, verbose=True)\n",
    "\n",
    "print(f\"Test Loss: {loss:.4f}\")\n",
    "print(f\"Test Accuracy: {accuracy:.4f}\")\n",
    "predictions = model.predict(X_test_dense)\n",
    "\n",
    "predicted_classes = (predictions > 0.5).astype(int)\n",
    "print(classification_report(Y_test, predicted_classes, target_names=['Negative', 'Positive']))\n",
    "conf_matrix = confusion_matrix(Y_test, predicted_classes)\n",
    "print(conf_matrix)\n"
   ]
  },
  {
   "cell_type": "markdown",
   "source": [
    "**(e)** Use the classifier to classify a few sentences you write yourselves. "
   ],
   "metadata": {
    "collapsed": false
   },
   "id": "aca20dcb9b6a9cdc"
  },
  {
   "cell_type": "code",
   "execution_count": 8,
   "outputs": [
    {
     "name": "stdout",
     "output_type": "stream",
     "text": [
      "1/1 [==============================] - 0s 10ms/step\n",
      "Sentence: 'Last night, I watched 'Dreams of Light', a movie that's been the talk of the town lately. The movie kicked off with stunning visual effects that were truly a feast for the eyes. Each frame was like a beautifully crafted painting, capturing the essence of the story's vibrant setting. However, as the movie progressed, I couldn't help but feel let down by the predictable plot. It seemed as though the scriptwriters had taken no risks, sticking to a formulaic storyline that offered no real surprises. The lead actor delivered a heartwarming performance, adding depth to a character that might otherwise have felt one-dimensional. But on the flip side, the supporting cast just didn't bring the same level of energy. Their performances were lackluster, and at times, it felt as if they were simply going through the motions. The dialogue was another high point, filled with witty and engaging lines that kept me invested in the characters' journeys. Yet, the pacing of the film was off. However, the sound editing was less impressive. The background score often drowned out the actors' voices, making it hard to follow the dialogue. The cinematography was a saving grace, with breathtaking landscapes and well-executed shots that kept me visually engaged. In contrast, the movie's climax was underwhelming. It lacked the emotional punch I was expecting and felt somewhat rushed.'\n",
      "Predicted Sentiment: Positive\n",
      "\n",
      "Sentence: 'This movie was a fantastic journey through emotions.'\n",
      "Predicted Sentiment: Positive\n",
      "\n",
      "Sentence: 'I did not like the movie, it was boring and too long.'\n",
      "Predicted Sentiment: Negative\n",
      "\n",
      "Sentence: 'An absolute masterpiece, brilliantly acted and well written.'\n",
      "Predicted Sentiment: Positive\n",
      "\n",
      "Sentence: 'The acting was mediocre and the plot was predictable'\n",
      "Predicted Sentiment: Negative\n",
      "\n",
      "Sentence: 'It was interesting movie, although very long'\n",
      "Predicted Sentiment: Negative\n",
      "\n",
      "Sentence: 'Short movie with not an interesting outcome'\n",
      "Predicted Sentiment: Positive\n",
      "\n",
      "Sentence: 'Did not like the movie'\n",
      "Predicted Sentiment: Negative\n"
     ]
    }
   ],
   "source": [
    "new_sentences = [\n",
    "    \"Last night, I watched 'Dreams of Light', a movie that's been the talk of the town lately. The movie kicked off with stunning visual effects that were truly a feast for the eyes. Each frame was like a beautifully crafted painting, capturing the essence of the story's vibrant setting. However, as the movie progressed, I couldn't help but feel let down by the predictable plot. It seemed as though the scriptwriters had taken no risks, sticking to a formulaic storyline that offered no real surprises. The lead actor delivered a heartwarming performance, adding depth to a character that might otherwise have felt one-dimensional. But on the flip side, the supporting cast just didn't bring the same level of energy. Their performances were lackluster, and at times, it felt as if they were simply going through the motions. The dialogue was another high point, filled with witty and engaging lines that kept me invested in the characters' journeys. Yet, the pacing of the film was off. However, the sound editing was less impressive. The background score often drowned out the actors' voices, making it hard to follow the dialogue. The cinematography was a saving grace, with breathtaking landscapes and well-executed shots that kept me visually engaged. In contrast, the movie's climax was underwhelming. It lacked the emotional punch I was expecting and felt somewhat rushed.\",\n",
    "    \"This movie was a fantastic journey through emotions.\",\n",
    "    \"I did not like the movie, it was boring and too long.\",\n",
    "    \"An absolute masterpiece, brilliantly acted and well written.\",\n",
    "    \"The acting was mediocre and the plot was predictable\",\n",
    "    \"It was interesting movie, although very long\",\n",
    "    \"Short movie with not an interesting outcome\",\n",
    "    \"Did not like the movie\"\n",
    "]\n",
    "\n",
    "X_new = vectorizer.transform(new_sentences)\n",
    "X_new_dense = X_new.toarray()\n",
    "new_predictions = model.predict(X_new_dense)\n",
    "new_predicted_classes = (new_predictions > 0.5).astype(int)\n",
    "\n",
    "for i, sentence in enumerate(new_sentences):\n",
    "    print(f\"Sentence: '{sentence}'\")\n",
    "    print(f\"Predicted Sentiment: {'Positive' if new_predicted_classes[i][0] == 1 else 'Negative'}\\n\")"
   ],
   "metadata": {
    "collapsed": false,
    "ExecuteTime": {
     "end_time": "2023-11-15T14:25:34.503025Z",
     "start_time": "2023-11-15T14:25:34.461076Z"
    }
   },
   "id": "b9bca970a15405e4"
  }
 ],
 "metadata": {
  "kernelspec": {
   "display_name": "Python 3 (ipykernel)",
   "language": "python",
   "name": "python3"
  },
  "language_info": {
   "codemirror_mode": {
    "name": "ipython",
    "version": 3
   },
   "file_extension": ".py",
   "mimetype": "text/x-python",
   "name": "python",
   "nbconvert_exporter": "python",
   "pygments_lexer": "ipython3",
   "version": "3.9.12"
  }
 },
 "nbformat": 4,
 "nbformat_minor": 5
}
